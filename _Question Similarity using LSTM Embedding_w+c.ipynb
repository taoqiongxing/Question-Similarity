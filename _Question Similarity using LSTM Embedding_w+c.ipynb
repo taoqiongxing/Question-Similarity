{
 "cells": [
  {
   "cell_type": "code",
   "execution_count": 1,
   "metadata": {},
   "outputs": [],
   "source": [
    "import numpy as np\n",
    "import pandas as pd"
   ]
  },
  {
   "cell_type": "code",
   "execution_count": 2,
   "metadata": {},
   "outputs": [],
   "source": [
    "df_train = pd.read_csv('C:/Users/Ax/Desktop/w+c/train.csv', encoding='utf-8')\n",
    "df_train['id'] = df_train['id'].apply(str)"
   ]
  },
  {
   "cell_type": "code",
   "execution_count": 3,
   "metadata": {},
   "outputs": [],
   "source": [
    "df_test = pd.read_csv('C:/Users/Ax/Desktop/w+c/test.csv', encoding='utf-8')\n",
    "df_test['test_id'] = df_test['test_id'].apply(str)"
   ]
  },
  {
   "cell_type": "code",
   "execution_count": 4,
   "metadata": {},
   "outputs": [],
   "source": [
    "df_all = pd.concat((df_train, df_test),sort=True)\n",
    "df_all['question1'].fillna('', inplace=True)\n",
    "df_all['question2'].fillna('', inplace=True)"
   ]
  },
  {
   "cell_type": "markdown",
   "metadata": {},
   "source": [
    "C:\\ProgramData\\Anaconda3\\lib\\site-packages\\ipykernel_launcher.py:1: FutureWarning: Sorting because non-concatenation axis is not aligned. A future version\n",
    "of pandas will change to not sort by default.\n",
    "\n",
    "To accept the future behavior, pass 'sort=True'.\n",
    "\n",
    "To retain the current behavior and silence the warning, pass sort=False\n",
    "\n",
    "  \"\"\"Entry point for launching an IPython kernel."
   ]
  },
  {
   "cell_type": "code",
   "execution_count": 5,
   "metadata": {},
   "outputs": [],
   "source": [
    "from sklearn.feature_extraction.text import CountVectorizer\n",
    "import itertools"
   ]
  },
  {
   "cell_type": "code",
   "execution_count": 6,
   "metadata": {},
   "outputs": [],
   "source": [
    "counts_vectorizer = CountVectorizer(max_features=10000-1).fit(\n",
    "    itertools.chain(df_all['question1'], df_all['question2']))\n",
    "other_index = len(counts_vectorizer.vocabulary_)"
   ]
  },
  {
   "cell_type": "code",
   "execution_count": 7,
   "metadata": {},
   "outputs": [
    {
     "name": "stderr",
     "output_type": "stream",
     "text": [
      "C:\\ProgramData\\Anaconda3\\lib\\site-packages\\h5py\\__init__.py:36: FutureWarning: Conversion of the second argument of issubdtype from `float` to `np.floating` is deprecated. In future, it will be treated as `np.float64 == np.dtype(float).type`.\n",
      "  from ._conv import register_converters as _register_converters\n",
      "Using TensorFlow backend.\n"
     ]
    }
   ],
   "source": [
    "import re\n",
    "from keras.preprocessing.sequence import pad_sequences\n",
    "from sklearn.model_selection import train_test_split"
   ]
  },
  {
   "cell_type": "code",
   "execution_count": 8,
   "metadata": {},
   "outputs": [],
   "source": [
    "words_tokenizer = re.compile(counts_vectorizer.token_pattern)"
   ]
  },
  {
   "cell_type": "code",
   "execution_count": 9,
   "metadata": {},
   "outputs": [],
   "source": [
    "def create_padded_seqs(texts, max_len=30):\n",
    "    seqs = texts.apply(lambda s: \n",
    "        [counts_vectorizer.vocabulary_[w] if w in counts_vectorizer.vocabulary_ else other_index\n",
    "         for w in words_tokenizer.findall(s.lower())])\n",
    "    return pad_sequences(seqs, maxlen=max_len)"
   ]
  },
  {
   "cell_type": "code",
   "execution_count": 10,
   "metadata": {},
   "outputs": [],
   "source": [
    "#df_all = df_all.sample(1000) # Just for debugging"
   ]
  },
  {
   "cell_type": "code",
   "execution_count": 40,
   "metadata": {},
   "outputs": [],
   "source": [
    "X1_train, X1_val, X2_train, X2_val, y_train, y_val = \\\n",
    "    train_test_split(create_padded_seqs(df_all[df_all['id'].notnull()]['question1']), \n",
    "                     create_padded_seqs(df_all[df_all['id'].notnull()]['question2']),\n",
    "                     df_all[df_all['id'].notnull()]['is_duplicate'].values,\n",
    "                     stratify=df_all[df_all['id'].notnull()]['is_duplicate'].values,\n",
    "                     test_size=0.1)"
   ]
  },
  {
   "cell_type": "code",
   "execution_count": 41,
   "metadata": {},
   "outputs": [],
   "source": [
    "import keras.layers as lyr\n",
    "from keras.models import Model"
   ]
  },
  {
   "cell_type": "code",
   "execution_count": 63,
   "metadata": {},
   "outputs": [
    {
     "name": "stdout",
     "output_type": "stream",
     "text": [
      "__________________________________________________________________________________________________\n",
      "Layer (type)                    Output Shape         Param #     Connected to                     \n",
      "==================================================================================================\n",
      "input_5 (InputLayer)            (None, 30)           0                                            \n",
      "__________________________________________________________________________________________________\n",
      "input_6 (InputLayer)            (None, 30)           0                                            \n",
      "__________________________________________________________________________________________________\n",
      "embedding_3 (Embedding)         (None, 30, 300)      3000000     input_5[0][0]                    \n",
      "                                                                 input_6[0][0]                    \n",
      "__________________________________________________________________________________________________\n",
      "lstm_3 (LSTM)                   (None, 256)          570368      embedding_3[0][0]                \n",
      "                                                                 embedding_3[1][0]                \n",
      "__________________________________________________________________________________________________\n",
      "multiply_3 (Multiply)           (None, 256)          0           lstm_3[0][0]                     \n",
      "                                                                 lstm_3[1][0]                     \n",
      "__________________________________________________________________________________________________\n",
      "dense_5 (Dense)                 (None, 16)           4112        multiply_3[0][0]                 \n",
      "__________________________________________________________________________________________________\n",
      "dense_6 (Dense)                 (None, 1)            17          dense_5[0][0]                    \n",
      "==================================================================================================\n",
      "Total params: 3,574,497\n",
      "Trainable params: 3,574,497\n",
      "Non-trainable params: 0\n",
      "__________________________________________________________________________________________________\n"
     ]
    }
   ],
   "source": [
    "input1_tensor = lyr.Input(X1_train.shape[1:])\n",
    "input2_tensor = lyr.Input(X2_train.shape[1:])\n",
    "\n",
    "words_embedding_layer = lyr.Embedding(X1_train.max() + 1, 300)\n",
    "seq_embedding_layer = lyr.LSTM(256, activation='tanh')\n",
    "\n",
    "seq_embedding = lambda tensor: seq_embedding_layer(words_embedding_layer(tensor))\n",
    "\n",
    "merge_layer = lyr.multiply([seq_embedding(input1_tensor), seq_embedding(input2_tensor)])\n",
    "\n",
    "dense1_layer = lyr.Dense(16, activation='sigmoid')(merge_layer)\n",
    "\n",
    "ouput_layer = lyr.Dense(1, activation='sigmoid')(dense1_layer)\n",
    "\n",
    "model = Model([input1_tensor, input2_tensor], ouput_layer)\n",
    "\n",
    "model.compile(loss='mae', optimizer='adam')\n",
    "model.summary()"
   ]
  },
  {
   "cell_type": "code",
   "execution_count": 92,
   "metadata": {},
   "outputs": [
    {
     "name": "stdout",
     "output_type": "stream",
     "text": [
      "Train on 228947 samples, validate on 25439 samples\n",
      "Epoch 1/50\n",
      " - 241s - loss: 0.1318 - val_loss: 0.1525\n",
      "Epoch 2/50\n",
      " - 242s - loss: 0.1292 - val_loss: 0.1485\n",
      "Epoch 3/50\n",
      " - 241s - loss: 0.1272 - val_loss: 0.1477\n",
      "Epoch 4/50\n",
      " - 242s - loss: 0.1239 - val_loss: 0.1482\n",
      "Epoch 5/50\n",
      " - 241s - loss: 0.1213 - val_loss: 0.1437\n",
      "Epoch 6/50\n",
      " - 243s - loss: 0.1193 - val_loss: 0.1427\n",
      "Epoch 7/50\n",
      " - 241s - loss: 0.1160 - val_loss: 0.1393\n",
      "Epoch 8/50\n",
      " - 245s - loss: 0.1148 - val_loss: 0.1413\n",
      "Epoch 9/50\n",
      " - 244s - loss: 0.1118 - val_loss: 0.1401\n",
      "Epoch 10/50\n",
      " - 242s - loss: 0.1101 - val_loss: 0.1379\n",
      "Epoch 11/50\n",
      " - 243s - loss: 0.1071 - val_loss: 0.1381\n",
      "Epoch 12/50\n",
      " - 245s - loss: 0.1065 - val_loss: 0.1356\n",
      "Epoch 13/50\n",
      " - 240s - loss: 0.1057 - val_loss: 0.1357\n",
      "Epoch 14/50\n",
      " - 240s - loss: 0.1038 - val_loss: 0.1356\n",
      "Epoch 15/50\n",
      " - 241s - loss: 0.1036 - val_loss: 0.1335\n",
      "Epoch 16/50\n",
      " - 241s - loss: 0.1024 - val_loss: 0.1327\n",
      "Epoch 17/50\n",
      " - 240s - loss: 0.1012 - val_loss: 0.1319\n",
      "Epoch 18/50\n",
      " - 243s - loss: 0.0996 - val_loss: 0.1338\n",
      "Epoch 19/50\n",
      " - 244s - loss: 0.0991 - val_loss: 0.1321\n",
      "Epoch 20/50\n",
      " - 241s - loss: 0.0983 - val_loss: 0.1299\n",
      "Epoch 21/50\n",
      " - 245s - loss: 0.0975 - val_loss: 0.1289\n",
      "Epoch 22/50\n",
      " - 252s - loss: 0.0987 - val_loss: 0.1290\n",
      "Epoch 23/50\n",
      " - 252s - loss: 0.0974 - val_loss: 0.1308\n",
      "Epoch 24/50\n",
      " - 246s - loss: 0.0959 - val_loss: 0.1291\n",
      "Epoch 25/50\n",
      " - 242s - loss: 0.0951 - val_loss: 0.1280\n",
      "Epoch 26/50\n",
      " - 242s - loss: 0.0945 - val_loss: 0.1284\n",
      "Epoch 27/50\n",
      " - 241s - loss: 0.0933 - val_loss: 0.1272\n",
      "Epoch 28/50\n",
      " - 241s - loss: 0.0926 - val_loss: 0.1255\n",
      "Epoch 29/50\n",
      " - 241s - loss: 0.0922 - val_loss: 0.1278\n",
      "Epoch 30/50\n",
      " - 242s - loss: 0.0922 - val_loss: 0.1271\n",
      "Epoch 31/50\n",
      " - 243s - loss: 0.0908 - val_loss: 0.1280\n",
      "Epoch 32/50\n",
      " - 242s - loss: 0.0902 - val_loss: 0.1239\n",
      "Epoch 33/50\n",
      " - 243s - loss: 0.0896 - val_loss: 0.1249\n",
      "Epoch 34/50\n",
      " - 245s - loss: 0.0895 - val_loss: 0.1285\n",
      "Epoch 35/50\n",
      " - 243s - loss: 0.0902 - val_loss: 0.1252\n",
      "Epoch 36/50\n",
      " - 243s - loss: 0.0898 - val_loss: 0.1251\n",
      "Epoch 37/50\n",
      " - 243s - loss: 0.0900 - val_loss: 0.1276\n",
      "Epoch 38/50\n",
      " - 242s - loss: 0.0892 - val_loss: 0.1243\n",
      "Epoch 39/50\n",
      " - 242s - loss: 0.0886 - val_loss: 0.1239\n",
      "Epoch 40/50\n",
      " - 240s - loss: 0.0891 - val_loss: 0.1253\n",
      "Epoch 41/50\n",
      " - 240s - loss: 0.0888 - val_loss: 0.1241\n",
      "Epoch 42/50\n",
      " - 246s - loss: 0.0875 - val_loss: 0.1229\n",
      "Epoch 43/50\n",
      " - 250s - loss: 0.0869 - val_loss: 0.1244\n",
      "Epoch 44/50\n",
      " - 248s - loss: 0.0876 - val_loss: 0.1219\n",
      "Epoch 45/50\n",
      " - 249s - loss: 0.0870 - val_loss: 0.1257\n",
      "Epoch 46/50\n",
      " - 249s - loss: 0.0877 - val_loss: 0.1236\n",
      "Epoch 47/50\n",
      " - 243s - loss: 0.0869 - val_loss: 0.1243\n",
      "Epoch 48/50\n",
      " - 242s - loss: 0.0868 - val_loss: 0.1246\n",
      "Epoch 49/50\n",
      " - 240s - loss: 0.0871 - val_loss: 0.1251\n",
      "Epoch 50/50\n",
      " - 245s - loss: 0.0870 - val_loss: 0.1248\n"
     ]
    },
    {
     "data": {
      "text/plain": [
       "<keras.callbacks.History at 0x1e915e2ea20>"
      ]
     },
     "execution_count": 92,
     "metadata": {},
     "output_type": "execute_result"
    }
   ],
   "source": [
    "model.fit([X1_train, X2_train], y_train, \n",
    "          validation_data=([X1_val, X2_val], y_val), \n",
    "          batch_size=64, epochs=50, verbose=2)"
   ]
  },
  {
   "cell_type": "code",
   "execution_count": 93,
   "metadata": {},
   "outputs": [],
   "source": [
    "features_model = Model([input1_tensor, input2_tensor], merge_layer)\n",
    "features_model.compile(loss='mse', optimizer='adam')"
   ]
  },
  {
   "cell_type": "code",
   "execution_count": 94,
   "metadata": {},
   "outputs": [],
   "source": [
    "F_train = features_model.predict([X1_train, X2_train], batch_size=64)\n",
    "F_val = features_model.predict([X1_val, X2_val], batch_size=64)"
   ]
  },
  {
   "cell_type": "code",
   "execution_count": 95,
   "metadata": {},
   "outputs": [],
   "source": [
    "import xgboost as xgb"
   ]
  },
  {
   "cell_type": "code",
   "execution_count": 96,
   "metadata": {},
   "outputs": [],
   "source": [
    "dTrain = xgb.DMatrix(F_train, label=y_train)\n",
    "dVal = xgb.DMatrix(F_val, label=y_val)"
   ]
  },
  {
   "cell_type": "code",
   "execution_count": 97,
   "metadata": {},
   "outputs": [
    {
     "name": "stdout",
     "output_type": "stream",
     "text": [
      "[0]\ttrain-logloss:0.663084\tval-logloss:0.664789\n",
      "Multiple eval metrics have been passed: 'val-logloss' will be used for early stopping.\n",
      "\n",
      "Will train until val-logloss hasn't improved in 10 rounds.\n",
      "[10]\ttrain-logloss:0.483338\tval-logloss:0.499586\n",
      "[20]\ttrain-logloss:0.398336\tval-logloss:0.425103\n",
      "[30]\ttrain-logloss:0.354167\tval-logloss:0.390077\n",
      "[40]\ttrain-logloss:0.325369\tval-logloss:0.368962\n",
      "[50]\ttrain-logloss:0.3013\tval-logloss:0.351457\n",
      "[60]\ttrain-logloss:0.285441\tval-logloss:0.341443\n",
      "[70]\ttrain-logloss:0.270521\tval-logloss:0.331945\n",
      "[80]\ttrain-logloss:0.260629\tval-logloss:0.327028\n",
      "[90]\ttrain-logloss:0.252897\tval-logloss:0.323291\n",
      "[100]\ttrain-logloss:0.244436\tval-logloss:0.319482\n",
      "[110]\ttrain-logloss:0.237146\tval-logloss:0.316682\n",
      "[120]\ttrain-logloss:0.230382\tval-logloss:0.31428\n",
      "[130]\ttrain-logloss:0.225529\tval-logloss:0.31287\n",
      "[140]\ttrain-logloss:0.220674\tval-logloss:0.310984\n",
      "[150]\ttrain-logloss:0.216543\tval-logloss:0.309383\n",
      "[160]\ttrain-logloss:0.212714\tval-logloss:0.30831\n",
      "[170]\ttrain-logloss:0.208537\tval-logloss:0.307244\n",
      "[180]\ttrain-logloss:0.204823\tval-logloss:0.306317\n",
      "[190]\ttrain-logloss:0.201833\tval-logloss:0.305734\n",
      "[200]\ttrain-logloss:0.198716\tval-logloss:0.305123\n",
      "[210]\ttrain-logloss:0.19549\tval-logloss:0.304729\n",
      "[220]\ttrain-logloss:0.193163\tval-logloss:0.304309\n",
      "[230]\ttrain-logloss:0.190684\tval-logloss:0.303985\n",
      "[240]\ttrain-logloss:0.188666\tval-logloss:0.303699\n",
      "[250]\ttrain-logloss:0.186313\tval-logloss:0.303522\n",
      "[260]\ttrain-logloss:0.18422\tval-logloss:0.303239\n",
      "[270]\ttrain-logloss:0.182364\tval-logloss:0.30317\n",
      "[280]\ttrain-logloss:0.1802\tval-logloss:0.302711\n",
      "[290]\ttrain-logloss:0.178576\tval-logloss:0.302556\n",
      "[300]\ttrain-logloss:0.176959\tval-logloss:0.302434\n",
      "Stopping. Best iteration:\n",
      "[298]\ttrain-logloss:0.177284\tval-logloss:0.302353\n",
      "\n"
     ]
    }
   ],
   "source": [
    "xgb_params = {\n",
    "    'objective': 'binary:logistic',\n",
    "    'booster': 'gbtree',\n",
    "    'eval_metric': 'logloss',\n",
    "    'eta': 0.1, \n",
    "    'max_depth': 9,\n",
    "    'subsample': 0.9,\n",
    "    'colsample_bytree': 1 / F_train.shape[1]**0.5,\n",
    "    'min_child_weight': 5,\n",
    "    'silent': 1\n",
    "}\n",
    "bst = xgb.train(xgb_params, dTrain, 1000,  [(dTrain,'train'), (dVal,'val')], \n",
    "                verbose_eval=10, early_stopping_rounds=10)"
   ]
  },
  {
   "cell_type": "code",
   "execution_count": 98,
   "metadata": {},
   "outputs": [],
   "source": [
    "X1_test = create_padded_seqs(df_all[df_all['test_id'].notnull()]['question1'])\n",
    "X2_test = create_padded_seqs(df_all[df_all['test_id'].notnull()]['question2'])"
   ]
  },
  {
   "cell_type": "code",
   "execution_count": 99,
   "metadata": {},
   "outputs": [],
   "source": [
    "F_test = features_model.predict([X1_test, X2_test], batch_size=64)"
   ]
  },
  {
   "cell_type": "code",
   "execution_count": 100,
   "metadata": {},
   "outputs": [],
   "source": [
    "dTest = xgb.DMatrix(F_test)"
   ]
  },
  {
   "cell_type": "code",
   "execution_count": 101,
   "metadata": {},
   "outputs": [],
   "source": [
    "df_sub = pd.DataFrame({\n",
    "        'test_id': df_all[df_all['test_id'].notnull()]['test_id'].values,\n",
    "        'y_pre': bst.predict(dTest, ntree_limit=bst.best_ntree_limit)\n",
    "    }).set_index('test_id')"
   ]
  },
  {
   "cell_type": "code",
   "execution_count": 102,
   "metadata": {},
   "outputs": [
    {
     "data": {
      "text/html": [
       "<div>\n",
       "<style scoped>\n",
       "    .dataframe tbody tr th:only-of-type {\n",
       "        vertical-align: middle;\n",
       "    }\n",
       "\n",
       "    .dataframe tbody tr th {\n",
       "        vertical-align: top;\n",
       "    }\n",
       "\n",
       "    .dataframe thead th {\n",
       "        text-align: right;\n",
       "    }\n",
       "</style>\n",
       "<table border=\"1\" class=\"dataframe\">\n",
       "  <thead>\n",
       "    <tr style=\"text-align: right;\">\n",
       "      <th></th>\n",
       "      <th>y_pre</th>\n",
       "    </tr>\n",
       "    <tr>\n",
       "      <th>test_id</th>\n",
       "      <th></th>\n",
       "    </tr>\n",
       "  </thead>\n",
       "  <tbody>\n",
       "    <tr>\n",
       "      <th>0</th>\n",
       "      <td>0.410701</td>\n",
       "    </tr>\n",
       "    <tr>\n",
       "      <th>1</th>\n",
       "      <td>0.907897</td>\n",
       "    </tr>\n",
       "    <tr>\n",
       "      <th>2</th>\n",
       "      <td>0.102319</td>\n",
       "    </tr>\n",
       "    <tr>\n",
       "      <th>3</th>\n",
       "      <td>0.974736</td>\n",
       "    </tr>\n",
       "    <tr>\n",
       "      <th>4</th>\n",
       "      <td>0.080133</td>\n",
       "    </tr>\n",
       "  </tbody>\n",
       "</table>\n",
       "</div>"
      ],
      "text/plain": [
       "            y_pre\n",
       "test_id          \n",
       "0        0.410701\n",
       "1        0.907897\n",
       "2        0.102319\n",
       "3        0.974736\n",
       "4        0.080133"
      ]
     },
     "execution_count": 102,
     "metadata": {},
     "output_type": "execute_result"
    }
   ],
   "source": [
    "df_sub.head()"
   ]
  },
  {
   "cell_type": "code",
   "execution_count": 103,
   "metadata": {},
   "outputs": [
    {
     "data": {
      "text/plain": [
       "<matplotlib.axes._subplots.AxesSubplot at 0x1e80ed00cf8>"
      ]
     },
     "execution_count": 103,
     "metadata": {},
     "output_type": "execute_result"
    },
    {
     "data": {
      "image/png": "[encoded data removed]",
      "text/plain": [
       "<Figure size 432x288 with 1 Axes>"
      ]
     },
     "metadata": {},
     "output_type": "display_data"
    }
   ],
   "source": [
    "df_sub['y_pre'].hist(bins=100)"
   ]
  },
  {
   "cell_type": "code",
   "execution_count": 104,
   "metadata": {},
   "outputs": [],
   "source": [
    "df_sub.to_csv('submission20180624LSTM_w+c_11.csv', index=False)"
   ]
  },
  {
   "cell_type": "code",
   "execution_count": null,
   "metadata": {},
   "outputs": [],
   "source": []
  },
  {
   "cell_type": "code",
   "execution_count": null,
   "metadata": {},
   "outputs": [],
   "source": []
  }
 ],
 "metadata": {
  "kernelspec": {
   "display_name": "Python 3",
   "language": "python",
   "name": "python3"
  },
  "language_info": {
   "codemirror_mode": {
    "name": "ipython",
    "version": 3
   },
   "file_extension": ".py",
   "mimetype": "text/x-python",
   "name": "python",
   "nbconvert_exporter": "python",
   "pygments_lexer": "ipython3",
   "version": "3.6.5"
  }
 },
 "nbformat": 4,
 "nbformat_minor": 2
}
