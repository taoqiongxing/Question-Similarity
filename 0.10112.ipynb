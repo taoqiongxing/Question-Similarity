{
 "cells": [
  {
   "cell_type": "code",
   "execution_count": 11,
   "metadata": {},
   "outputs": [],
   "source": [
    "import pandas as pd\n",
    "import numpy as np\n",
    "import seaborn as sns\n",
    "import matplotlib.pyplot as plt\n",
    "from sklearn import linear_model\n",
    "%matplotlib inline\n",
    "\n",
    "from subprocess import check_output"
   ]
  },
  {
   "cell_type": "code",
   "execution_count": 12,
   "metadata": {},
   "outputs": [],
   "source": [
    "train = pd.read_csv('C:/Users/Ax/Desktop/chars/train.csv').fillna(\" \")\n",
    "train = train.dropna(how=\"any\").reset_index(drop=True)"
   ]
  },
  {
   "cell_type": "code",
   "execution_count": 13,
   "metadata": {},
   "outputs": [
    {
     "data": {
      "text/html": [
       "<div>\n",
       "<style scoped>\n",
       "    .dataframe tbody tr th:only-of-type {\n",
       "        vertical-align: middle;\n",
       "    }\n",
       "\n",
       "    .dataframe tbody tr th {\n",
       "        vertical-align: top;\n",
       "    }\n",
       "\n",
       "    .dataframe thead th {\n",
       "        text-align: right;\n",
       "    }\n",
       "</style>\n",
       "<table border=\"1\" class=\"dataframe\">\n",
       "  <thead>\n",
       "    <tr style=\"text-align: right;\">\n",
       "      <th></th>\n",
       "      <th>is_duplicate</th>\n",
       "      <th>q1</th>\n",
       "      <th>q2</th>\n",
       "      <th>question1</th>\n",
       "      <th>question2</th>\n",
       "      <th>id</th>\n",
       "    </tr>\n",
       "  </thead>\n",
       "  <tbody>\n",
       "    <tr>\n",
       "      <th>0</th>\n",
       "      <td>1</td>\n",
       "      <td>Q397345</td>\n",
       "      <td>Q538594</td>\n",
       "      <td>L2218 L2568 L0360 L0242 L2218 L0741</td>\n",
       "      <td>L3019 L0104 L0582 L2218 L1861 L1556 L0242</td>\n",
       "      <td>0</td>\n",
       "    </tr>\n",
       "    <tr>\n",
       "      <th>1</th>\n",
       "      <td>0</td>\n",
       "      <td>Q193805</td>\n",
       "      <td>Q699273</td>\n",
       "      <td>L2376 L2168 L0050 L1187 L0104 L2432 L0902 L014...</td>\n",
       "      <td>L0156 L2452 L1187 L0104 L2459 L2979 L2613 L0449</td>\n",
       "      <td>1</td>\n",
       "    </tr>\n",
       "    <tr>\n",
       "      <th>2</th>\n",
       "      <td>0</td>\n",
       "      <td>Q085471</td>\n",
       "      <td>Q676160</td>\n",
       "      <td>L2323 L1526 L2214 L1132 L2723 L1861 L2249 L050...</td>\n",
       "      <td>L2568 L0971 L1291 L0358 L0037 L2582</td>\n",
       "      <td>2</td>\n",
       "    </tr>\n",
       "    <tr>\n",
       "      <th>3</th>\n",
       "      <td>0</td>\n",
       "      <td>Q189314</td>\n",
       "      <td>Q438123</td>\n",
       "      <td>L0018 L2321 L1346 L2432 L0902 L1149 L1980 L187...</td>\n",
       "      <td>L3019 L0104 L1104 L1935 L1683 L2495 L2812</td>\n",
       "      <td>3</td>\n",
       "    </tr>\n",
       "    <tr>\n",
       "      <th>4</th>\n",
       "      <td>0</td>\n",
       "      <td>Q267714</td>\n",
       "      <td>Q290126</td>\n",
       "      <td>L2271 L1346 L1389 L2932 L0466 L2218 L1971 L221...</td>\n",
       "      <td>L0050 L1187 L0104 L1683 L2495 L2812 L1588 L255...</td>\n",
       "      <td>4</td>\n",
       "    </tr>\n",
       "  </tbody>\n",
       "</table>\n",
       "</div>"
      ],
      "text/plain": [
       "   is_duplicate       q1       q2  \\\n",
       "0             1  Q397345  Q538594   \n",
       "1             0  Q193805  Q699273   \n",
       "2             0  Q085471  Q676160   \n",
       "3             0  Q189314  Q438123   \n",
       "4             0  Q267714  Q290126   \n",
       "\n",
       "                                           question1  \\\n",
       "0                L2218 L2568 L0360 L0242 L2218 L0741   \n",
       "1  L2376 L2168 L0050 L1187 L0104 L2432 L0902 L014...   \n",
       "2  L2323 L1526 L2214 L1132 L2723 L1861 L2249 L050...   \n",
       "3  L0018 L2321 L1346 L2432 L0902 L1149 L1980 L187...   \n",
       "4  L2271 L1346 L1389 L2932 L0466 L2218 L1971 L221...   \n",
       "\n",
       "                                           question2  id  \n",
       "0          L3019 L0104 L0582 L2218 L1861 L1556 L0242   0  \n",
       "1    L0156 L2452 L1187 L0104 L2459 L2979 L2613 L0449   1  \n",
       "2                L2568 L0971 L1291 L0358 L0037 L2582   2  \n",
       "3          L3019 L0104 L1104 L1935 L1683 L2495 L2812   3  \n",
       "4  L0050 L1187 L0104 L1683 L2495 L2812 L1588 L255...   4  "
      ]
     },
     "execution_count": 13,
     "metadata": {},
     "output_type": "execute_result"
    }
   ],
   "source": [
    "train.head()"
   ]
  },
  {
   "cell_type": "code",
   "execution_count": 14,
   "metadata": {},
   "outputs": [
    {
     "data": {
      "text/plain": [
       "<matplotlib.axes._subplots.AxesSubplot at 0x1bc000d50f0>"
      ]
     },
     "execution_count": 14,
     "metadata": {},
     "output_type": "execute_result"
    },
    {
     "data": {
      "image/png": "[encoded data removed]",
      "text/plain": [
       "<Figure size 432x288 with 1 Axes>"
      ]
     },
     "metadata": {},
     "output_type": "display_data"
    }
   ],
   "source": [
    "train.groupby(\"is_duplicate\")['id'].count().plot.bar()"
   ]
  },
  {
   "cell_type": "code",
   "execution_count": 15,
   "metadata": {},
   "outputs": [],
   "source": [
    "from sklearn.feature_extraction.text import CountVectorizer"
   ]
  },
  {
   "cell_type": "code",
   "execution_count": 16,
   "metadata": {},
   "outputs": [],
   "source": [
    "Bag = CountVectorizer(max_df=0.999, min_df=50, max_features=300, \n",
    "                                      analyzer='char', ngram_range=(1,2), \n",
    "                                      binary=True, lowercase=True)"
   ]
  },
  {
   "cell_type": "code",
   "execution_count": 17,
   "metadata": {},
   "outputs": [
    {
     "data": {
      "text/plain": [
       "CountVectorizer(analyzer='char', binary=True, decode_error='strict',\n",
       "        dtype=<class 'numpy.int64'>, encoding='utf-8', input='content',\n",
       "        lowercase=True, max_df=0.999, max_features=300, min_df=50,\n",
       "        ngram_range=(1, 2), preprocessor=None, stop_words=None,\n",
       "        strip_accents=None, token_pattern='(?u)\\\\b\\\\w\\\\w+\\\\b',\n",
       "        tokenizer=None, vocabulary=None)"
      ]
     },
     "execution_count": 17,
     "metadata": {},
     "output_type": "execute_result"
    }
   ],
   "source": [
    "Bag.fit(pd.concat((train.question1,train.question2)).unique())"
   ]
  },
  {
   "cell_type": "code",
   "execution_count": 18,
   "metadata": {},
   "outputs": [],
   "source": [
    "question1 = Bag.transform(train['question1'])\n",
    "question2 = Bag.transform(train['question2'])"
   ]
  },
  {
   "cell_type": "code",
   "execution_count": 19,
   "metadata": {},
   "outputs": [],
   "source": [
    "X = -(question1 != question2).astype(int)\n",
    "y = train['is_duplicate'].values"
   ]
  },
  {
   "cell_type": "code",
   "execution_count": 20,
   "metadata": {},
   "outputs": [
    {
     "data": {
      "text/plain": [
       "LogisticRegression(C=0.1, class_weight={1: 0.472008228977, 0: 1.30905513329},\n",
       "          dual=False, fit_intercept=True, intercept_scaling=1,\n",
       "          max_iter=100, multi_class='ovr', n_jobs=1, penalty='l2',\n",
       "          random_state=None, solver='sag', tol=0.0001, verbose=0,\n",
       "          warm_start=False)"
      ]
     },
     "execution_count": 20,
     "metadata": {},
     "output_type": "execute_result"
    }
   ],
   "source": [
    "logisticRegressor = linear_model.LogisticRegression(C=0.1, solver='sag', \n",
    "                                                    class_weight={1: 0.472008228977, 0: 1.30905513329})\n",
    "logisticRegressor.fit(X, y)"
   ]
  },
  {
   "cell_type": "code",
   "execution_count": 21,
   "metadata": {},
   "outputs": [
    {
     "data": {
      "image/png": "[encoded data removed]",
      "text/plain": [
       "<Figure size 432x288 with 1 Axes>"
      ]
     },
     "metadata": {},
     "output_type": "display_data"
    }
   ],
   "source": [
    "gamma_0 = 1.30905513329\n",
    "gamma_1 = 0.472008228977\n",
    "def link_function(x):\n",
    "    return gamma_1*x/(gamma_1*x + gamma_0*(1 - x))\n",
    "\n",
    "support = np.linspace(0, 1, 1000)\n",
    "values = link_function(support)\n",
    "\n",
    "fig, ax = plt.subplots()\n",
    "ax.plot(support, values)\n",
    "ax.set_title('Link transformation', fontsize=20)\n",
    "ax.set_xlabel('x')\n",
    "ax.set_ylabel('f(x)')\n",
    "plt.show()"
   ]
  },
  {
   "cell_type": "code",
   "execution_count": 32,
   "metadata": {
    "scrolled": true
   },
   "outputs": [
    {
     "name": "stderr",
     "output_type": "stream",
     "text": [
      "C:\\ProgramData\\Anaconda3\\lib\\site-packages\\ipykernel_launcher.py:2: DeprecationWarning: \n",
      ".ix is deprecated. Please use\n",
      ".loc for label based indexing or\n",
      ".iloc for positional indexing\n",
      "\n",
      "See the documentation here:\n",
      "http://pandas.pydata.org/pandas-docs/stable/indexing.html#ix-indexer-is-deprecated\n",
      "  \n",
      "C:\\ProgramData\\Anaconda3\\lib\\site-packages\\ipykernel_launcher.py:3: DeprecationWarning: \n",
      ".ix is deprecated. Please use\n",
      ".loc for label based indexing or\n",
      ".iloc for positional indexing\n",
      "\n",
      "See the documentation here:\n",
      "http://pandas.pydata.org/pandas-docs/stable/indexing.html#ix-indexer-is-deprecated\n",
      "  This is separate from the ipykernel package so we can avoid doing imports until\n"
     ]
    }
   ],
   "source": [
    "test = pd.read_csv('C:/Users/Ax/Desktop/chars/test.csv')\n",
    "test.ix[test['question1'].isnull(),['question1','question2']] = ' '\n",
    "test.ix[test['question2'].isnull(),['question1','question2']] = ' '"
   ]
  },
  {
   "cell_type": "code",
   "execution_count": 35,
   "metadata": {},
   "outputs": [
    {
     "name": "stderr",
     "output_type": "stream",
     "text": [
      "C:\\ProgramData\\Anaconda3\\lib\\site-packages\\ipykernel_launcher.py:1: DeprecationWarning: \n",
      ".ix is deprecated. Please use\n",
      ".loc for label based indexing or\n",
      ".iloc for positional indexing\n",
      "\n",
      "See the documentation here:\n",
      "http://pandas.pydata.org/pandas-docs/stable/indexing.html#ix-indexer-is-deprecated\n",
      "  \"\"\"Entry point for launching an IPython kernel.\n",
      "C:\\ProgramData\\Anaconda3\\lib\\site-packages\\ipykernel_launcher.py:2: DeprecationWarning: \n",
      ".ix is deprecated. Please use\n",
      ".loc for label based indexing or\n",
      ".iloc for positional indexing\n",
      "\n",
      "See the documentation here:\n",
      "http://pandas.pydata.org/pandas-docs/stable/indexing.html#ix-indexer-is-deprecated\n",
      "  \n"
     ]
    },
    {
     "name": "stdout",
     "output_type": "stream",
     "text": [
      "Wall time: 13.3 s\n"
     ]
    }
   ],
   "source": [
    "%%time\n",
    "test.ix[test['question1'].isnull(),['question1','question2']] = ' '\n",
    "test.ix[test['question2'].isnull(),['question1','question2']] = ' '\n",
    "\n",
    "Question1 = Bag.transform(test['question1'])\n",
    "Question2 = Bag.transform(test['question2'])\n",
    "\n",
    "X_test = -(Question1 != Question2).astype(int)\n",
    "\n",
    "seperators= [50000,100000]\n",
    "testPredictions1 = logisticRegressor.predict_proba(X_test[:seperators[0],:])[:,1]\n",
    "testPredictions2 = logisticRegressor.predict_proba(X_test[seperators[0]:seperators[1],:])[:,1]\n",
    "testPredictions3 = logisticRegressor.predict_proba(X_test[seperators[1]:,:])[:,1]\n",
    "testPredictions = np.hstack((testPredictions1,testPredictions2,testPredictions3))"
   ]
  },
  {
   "cell_type": "code",
   "execution_count": 36,
   "metadata": {},
   "outputs": [],
   "source": [
    "submissionName = 'quora_submission'\n",
    "\n",
    "submission = pd.DataFrame()\n",
    "submission['test_id'] = test['test_id']\n",
    "submission['is_duplicate'] = testPredictions\n",
    "submission.to_csv(submissionName + '.csv', index=False)"
   ]
  },
  {
   "cell_type": "code",
   "execution_count": 61,
   "metadata": {},
   "outputs": [],
   "source": [
    "import math\n",
    "import pandas as pd\n",
    "submissionLSTM = pd.read_csv('submissionLSTM.csv')\n",
    "submission = pd.DataFrame()\n",
    "submission['y_pre'] = submissionLSTM['y_pre']\n",
    "for index,row in submission.iterrows():\n",
    "    row[\"y_pre\"]= math.floor(row[\"y_pre\"]+0.5)\n",
    "submission.to_csv('submissionlstmlstm.csv', index=False)"
   ]
  },
  {
   "cell_type": "code",
   "execution_count": 59,
   "metadata": {},
   "outputs": [
    {
     "name": "stdout",
     "output_type": "stream",
     "text": [
      "   c1   c2\n",
      "0  10  100\n",
      "1  11  110\n",
      "2  12  120\n",
      "10 100\n",
      "11 110\n",
      "12 120\n"
     ]
    }
   ],
   "source": [
    "\n",
    "inp = [{'c1':10, 'c2':100}, {'c1':11,'c2':110}, {'c1':12,'c2':120}]\n",
    "df = pd.DataFrame(inp)\n",
    "print(df )\n",
    "for index, row in df.iterrows():\n",
    "    print (row[\"c1\"], row[\"c2\"])"
   ]
  },
  {
   "cell_type": "code",
   "execution_count": null,
   "metadata": {},
   "outputs": [],
   "source": []
  }
 ],
 "metadata": {
  "kernelspec": {
   "display_name": "Python 3",
   "language": "python",
   "name": "python3"
  },
  "language_info": {
   "codemirror_mode": {
    "name": "ipython",
    "version": 3
   },
   "file_extension": ".py",
   "mimetype": "text/x-python",
   "name": "python",
   "nbconvert_exporter": "python",
   "pygments_lexer": "ipython3",
   "version": "3.6.5"
  }
 },
 "nbformat": 4,
 "nbformat_minor": 2
}
