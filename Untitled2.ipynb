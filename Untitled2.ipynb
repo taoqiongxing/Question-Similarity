{
 "cells": [
  {
   "cell_type": "code",
   "execution_count": 5,
   "metadata": {},
   "outputs": [
    {
     "name": "stdout",
     "output_type": "stream",
     "text": [
      "Load files...\n"
     ]
    }
   ],
   "source": [
    "from sklearn.linear_model import LogisticRegression\n",
    "from sklearn.feature_extraction.text import TfidfVectorizer\n",
    "\n",
    "import numpy as np\n",
    "import pandas as pd\n",
    "\n",
    "\n",
    "def get_ids(qids):\n",
    "    ids = []\n",
    "    for t_ in qids:\n",
    "        ids.append(int(t_[1:]))\n",
    "    return np.asarray(ids)\n",
    "\n",
    "\n",
    "def get_texts(file_path, question_path):\n",
    "    qes = pd.read_csv(question_path)\n",
    "    file = pd.read_csv(file_path)\n",
    "    q1id, q2id = file['q1'], file['q2']\n",
    "    id1s, id2s = get_ids(q1id), get_ids(q2id)\n",
    "    all_words = qes['words']\n",
    "    texts = []\n",
    "    for t_ in zip(id1s, id2s):\n",
    "        texts.append(all_words[t_[0]] + ' ' + all_words[t_[1]])\n",
    "    return texts\n",
    "\n",
    "\n",
    "def make_submission(predict_prob):\n",
    "    with open('submission.csv', 'w') as file:\n",
    "        file.write(str('y_pre') + '\\n')\n",
    "        for line in predict_prob:\n",
    "            file.write(str(line) + '\\n')\n",
    "    file.close()\n",
    "\n",
    "\n",
    "TRAIN_PATH = 'C:\\\\Users\\\\Ax\\\\Desktop\\\\tqx\\\\mirror\\\\2b87f48d6d1e4c9c874f4b52fbb954e7_\\\\train.csv'\n",
    "TEST_PATH = 'C:\\\\Users\\\\Ax\\\\Desktop\\\\tqx\\\\mirror\\\\2b87f48d6d1e4c9c874f4b52fbb954e7_\\\\test.csv'\n",
    "QUESTION_PATH = 'C:\\\\Users\\\\Ax\\\\Desktop\\\\tqx\\\\mirror\\\\2b87f48d6d1e4c9c874f4b52fbb954e7_\\\\question.csv'\n",
    "\n",
    "print('Load files...')\n",
    "questions = pd.read_csv(QUESTION_PATH)\n",
    "train = pd.read_csv(TRAIN_PATH)\n",
    "test = pd.read_csv(TEST_PATH)\n",
    "corpus = questions['words']"
   ]
  },
  {
   "cell_type": "code",
   "execution_count": null,
   "metadata": {
    "collapsed": true
   },
   "outputs": [],
   "source": [
    "index_dict=\n",
    "word_vectors\n",
    "combined=\n",
    "y=\n",
    "\n",
    "n_symbols,embedding_weights,x_train,y_train,x_test,y_test=get_data(index_dict, word_vectors,combined,y)"
   ]
  }
 ],
 "metadata": {
  "kernelspec": {
   "display_name": "Python 3",
   "language": "python",
   "name": "python3"
  },
  "language_info": {
   "codemirror_mode": {
    "name": "ipython",
    "version": 3
   },
   "file_extension": ".py",
   "mimetype": "text/x-python",
   "name": "python",
   "nbconvert_exporter": "python",
   "pygments_lexer": "ipython3",
   "version": "3.6.3"
  }
 },
 "nbformat": 4,
 "nbformat_minor": 2
}
